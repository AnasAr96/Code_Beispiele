{
 "cells": [
  {
   "cell_type": "code",
   "execution_count": 223,
   "id": "a0b06dcd",
   "metadata": {},
   "outputs": [],
   "source": [
    "import glob\n",
    "import pandas as pd\n",
    "\n",
    "\n",
    "\n",
    "path = 'Datasets'\n",
    "filenames = glob.glob(path + \"/*.csv\")\n",
    "dfs = []\n",
    "for file in filenames:\n",
    "    dfs.append(pd.read_csv(file))\n",
    "# Concatenate all data into one DataFrame\n",
    "dataFrame = pd.concat(dfs, ignore_index=True)"
   ]
  },
  {
   "cell_type": "code",
   "execution_count": 224,
   "id": "3c6f240f",
   "metadata": {},
   "outputs": [],
   "source": [
    "#get_dummies sorgt dafür one_hot_Codierung. Somit bezeichnen wir den feature als katigorisch\n",
    "features_file = pd.get_dummies(dataFrame, columns=['output_intent'])"
   ]
  },
  {
   "cell_type": "code",
   "execution_count": 225,
   "id": "2e79c586",
   "metadata": {},
   "outputs": [],
   "source": [
    "def cleanData (features_file):\n",
    "    del features_file['id']\n",
    "    del features_file['documentIde']\n",
    "    del features_file['actualFileRef']\n",
    "    del features_file['originalFileRef']\n",
    "    del features_file['pageNo']\n",
    "    del features_file['name']\n",
    "    del features_file['tenantId']\n",
    "    del features_file['productId']\n",
    "    del features_file['preflightStatus']\n",
    "    del features_file['previewRef']\n",
    "    del features_file['mediaBox_x']\n",
    "    del features_file['mediaBox_y']\n",
    "    del features_file['trimBox_x']\n",
    "    del features_file['trimBox_y']\n",
    "    del features_file['trimBox_width']\n",
    "    del features_file['trimBox_hight']\n",
    "    del features_file['colors_0_name']\n",
    "    del features_file['colors_0_overprint']\n",
    "    del features_file['colors_0_purpose']\n",
    "    del features_file['colors_0_opacity']\n",
    "    del features_file['colors_0_density']\n",
    "    del features_file['status']\n",
    "    del features_file['NumberPages']\n",
    "    del features_file['date']\n",
    "    del features_file['colors_1_name']\n",
    "    del features_file['colors_1_overprint']\n",
    "    del features_file['colors_1_purpose']\n",
    "    del features_file['colors_1_opacity']\n",
    "    del features_file['colors_1_density']\n",
    "    del features_file['colors_2_name']\n",
    "    del features_file['colors_2_overprint']\n",
    "    del features_file['colors_2_purpose']\n",
    "    del features_file['colors_2_opacity']\n",
    "    del features_file['colors_2_density']\n",
    "    del features_file['colors_3_name']\n",
    "    del features_file['colors_3_overprint']\n",
    "    del features_file['colors_3_purpose']\n",
    "    del features_file['colors_3_opacity']\n",
    "    del features_file['colors_3_density']\n",
    "    del features_file['colors_4_name']\n",
    "    del features_file['colors_4_cmyk_c']\n",
    "    del features_file['colors_4_cmyk_m']\n",
    "    del features_file['colors_4_cmyk_y']\n",
    "    del features_file['colors_4_cmyk_k']\n",
    "    del features_file['colors_4_overprint']\n",
    "    del features_file['colors_4_purpose']\n",
    "    del features_file['colors_4_opactiy']\n",
    "    del features_file['colors_4_density']\n",
    "    del features_file['seitenverhältnisse']\n",
    "    del features_file['anzahl_pantonfarben']\n",
    "\n",
    "    # das Löschen dieser Attribute verringern die Genauigkeit bei der vorhersage. man könnte sie lassen dann wird die Gennauigkeit bei 1\n",
    "    del features_file['bildanteil_in_%']\n",
    "    del features_file['dateigröße']\n",
    "    del features_file['falzkanten']\n",
    "\n",
    "    #del features_file['target_format']\n",
    "    #del features_file['target_druckseiten']\n",
    "    #del features_file['target_papiertyp']\n",
    "    #del features_file['target_typ']\n",
    "    return features_file"
   ]
  },
  {
   "cell_type": "code",
   "execution_count": 226,
   "id": "e5e5f293",
   "metadata": {},
   "outputs": [],
   "source": [
    "#extrahoere die x feature\n",
    "features_file_full = cleanData(features_file.copy())"
   ]
  },
  {
   "cell_type": "markdown",
   "id": "a8941170",
   "metadata": {},
   "source": [
    "Nun haben wie Die Daten fast bereinigt. wir erstellen für jeds Modell eine TrainingsDaten Set und scheiben nur einen Target-Feature darein "
   ]
  },
  {
   "cell_type": "code",
   "execution_count": 227,
   "id": "ae60fdaf",
   "metadata": {},
   "outputs": [],
   "source": [
    "dfType = features_file_full.copy()\n",
    "del dfType['target_format']\n",
    "del dfType['target_druckseiten']\n",
    "del dfType['target_papiertyp']\n",
    "dfType.to_csv(\"trainData/train_type.csv\" , index=False , header=True)"
   ]
  },
  {
   "cell_type": "code",
   "execution_count": 228,
   "id": "51bf15c7",
   "metadata": {},
   "outputs": [],
   "source": [
    "dfFormat = features_file_full.copy()\n",
    "del dfFormat['target_druckseiten']\n",
    "del dfFormat['target_papiertyp']\n",
    "del dfFormat['target_typ']\n",
    "dfFormat.to_csv(\"trainData/train_format.csv\" , index=False , header=True)"
   ]
  },
  {
   "cell_type": "code",
   "execution_count": 229,
   "id": "41be67ab",
   "metadata": {},
   "outputs": [],
   "source": [
    "dfDruckseiten = features_file_full.copy()\n",
    "del dfDruckseiten['target_papiertyp']\n",
    "del dfDruckseiten['target_typ']\n",
    "del dfDruckseiten['target_format']\n",
    "dfDruckseiten.to_csv(\"trainData/train_druckseiten.csv\" , index=False , header=True)"
   ]
  },
  {
   "cell_type": "code",
   "execution_count": 230,
   "id": "b6fc7af7",
   "metadata": {},
   "outputs": [],
   "source": [
    "dfPapiertyp = features_file_full.copy()\n",
    "del dfPapiertyp['target_druckseiten']\n",
    "del dfPapiertyp['target_typ']\n",
    "del dfPapiertyp['target_format']\n",
    "dfPapiertyp.to_csv(\"trainData/train_papiertyp.csv\" , index=False , header=True)"
   ]
  },
  {
   "cell_type": "code",
   "execution_count": null,
   "id": "efd79ea8",
   "metadata": {},
   "outputs": [],
   "source": []
  },
  {
   "cell_type": "code",
   "execution_count": null,
   "id": "3de32b1b",
   "metadata": {},
   "outputs": [],
   "source": []
  },
  {
   "cell_type": "code",
   "execution_count": null,
   "id": "27fdf969",
   "metadata": {},
   "outputs": [],
   "source": []
  },
  {
   "cell_type": "code",
   "execution_count": null,
   "id": "2b871040",
   "metadata": {},
   "outputs": [],
   "source": []
  },
  {
   "cell_type": "code",
   "execution_count": null,
   "id": "5fac0d8d",
   "metadata": {},
   "outputs": [],
   "source": []
  },
  {
   "cell_type": "code",
   "execution_count": null,
   "id": "3233dd0b",
   "metadata": {},
   "outputs": [],
   "source": []
  },
  {
   "cell_type": "code",
   "execution_count": null,
   "id": "6d34265e",
   "metadata": {},
   "outputs": [],
   "source": []
  },
  {
   "cell_type": "code",
   "execution_count": null,
   "id": "343db46e",
   "metadata": {},
   "outputs": [],
   "source": []
  },
  {
   "cell_type": "code",
   "execution_count": null,
   "id": "ab8973da",
   "metadata": {},
   "outputs": [],
   "source": []
  },
  {
   "cell_type": "code",
   "execution_count": null,
   "id": "03d16c6c",
   "metadata": {},
   "outputs": [],
   "source": []
  },
  {
   "cell_type": "code",
   "execution_count": null,
   "id": "7834b95e",
   "metadata": {},
   "outputs": [],
   "source": []
  },
  {
   "cell_type": "code",
   "execution_count": null,
   "id": "a2272367",
   "metadata": {},
   "outputs": [],
   "source": []
  },
  {
   "cell_type": "code",
   "execution_count": null,
   "id": "936cb959",
   "metadata": {},
   "outputs": [],
   "source": []
  },
  {
   "cell_type": "code",
   "execution_count": null,
   "id": "ef7477d3",
   "metadata": {},
   "outputs": [],
   "source": []
  },
  {
   "cell_type": "code",
   "execution_count": null,
   "id": "b0c64eb5",
   "metadata": {},
   "outputs": [],
   "source": []
  },
  {
   "cell_type": "code",
   "execution_count": null,
   "id": "c479f335",
   "metadata": {},
   "outputs": [],
   "source": []
  },
  {
   "cell_type": "code",
   "execution_count": null,
   "id": "1ca3accd",
   "metadata": {},
   "outputs": [],
   "source": []
  },
  {
   "cell_type": "code",
   "execution_count": null,
   "id": "7b6b8681",
   "metadata": {},
   "outputs": [],
   "source": []
  },
  {
   "cell_type": "code",
   "execution_count": null,
   "id": "1646f0dc",
   "metadata": {},
   "outputs": [],
   "source": []
  },
  {
   "cell_type": "code",
   "execution_count": null,
   "id": "69706e9d",
   "metadata": {},
   "outputs": [],
   "source": []
  },
  {
   "cell_type": "code",
   "execution_count": null,
   "id": "862a0c24",
   "metadata": {},
   "outputs": [],
   "source": []
  },
  {
   "cell_type": "code",
   "execution_count": null,
   "id": "2a0f3201",
   "metadata": {},
   "outputs": [],
   "source": []
  },
  {
   "cell_type": "code",
   "execution_count": null,
   "id": "feb49322",
   "metadata": {},
   "outputs": [],
   "source": []
  },
  {
   "cell_type": "code",
   "execution_count": null,
   "id": "c1952614",
   "metadata": {},
   "outputs": [],
   "source": []
  },
  {
   "cell_type": "code",
   "execution_count": null,
   "id": "e0fae7f0",
   "metadata": {},
   "outputs": [],
   "source": []
  },
  {
   "cell_type": "code",
   "execution_count": null,
   "id": "c687711d",
   "metadata": {},
   "outputs": [],
   "source": []
  },
  {
   "cell_type": "code",
   "execution_count": null,
   "id": "19ab2bd1",
   "metadata": {},
   "outputs": [],
   "source": []
  },
  {
   "cell_type": "code",
   "execution_count": null,
   "id": "03f4891a",
   "metadata": {},
   "outputs": [],
   "source": []
  },
  {
   "cell_type": "code",
   "execution_count": null,
   "id": "7409d27a",
   "metadata": {},
   "outputs": [],
   "source": []
  },
  {
   "cell_type": "code",
   "execution_count": null,
   "id": "30d54188",
   "metadata": {},
   "outputs": [],
   "source": []
  },
  {
   "cell_type": "code",
   "execution_count": null,
   "id": "62a7bf1b",
   "metadata": {},
   "outputs": [],
   "source": []
  },
  {
   "cell_type": "code",
   "execution_count": null,
   "id": "696ee0fc",
   "metadata": {},
   "outputs": [],
   "source": []
  },
  {
   "cell_type": "code",
   "execution_count": null,
   "id": "fb91dd25",
   "metadata": {},
   "outputs": [],
   "source": []
  },
  {
   "cell_type": "code",
   "execution_count": null,
   "id": "ed4f270e",
   "metadata": {},
   "outputs": [],
   "source": []
  },
  {
   "cell_type": "code",
   "execution_count": null,
   "id": "e8cd6200",
   "metadata": {},
   "outputs": [],
   "source": []
  },
  {
   "cell_type": "code",
   "execution_count": null,
   "id": "807565f4",
   "metadata": {},
   "outputs": [],
   "source": []
  },
  {
   "cell_type": "code",
   "execution_count": null,
   "id": "58a8d4c4",
   "metadata": {},
   "outputs": [],
   "source": []
  },
  {
   "cell_type": "code",
   "execution_count": null,
   "id": "042f9178",
   "metadata": {},
   "outputs": [],
   "source": []
  },
  {
   "cell_type": "code",
   "execution_count": null,
   "id": "18e27abe",
   "metadata": {},
   "outputs": [],
   "source": []
  },
  {
   "cell_type": "code",
   "execution_count": null,
   "id": "559f0338",
   "metadata": {},
   "outputs": [],
   "source": []
  },
  {
   "cell_type": "code",
   "execution_count": null,
   "id": "c15be315",
   "metadata": {},
   "outputs": [],
   "source": []
  },
  {
   "cell_type": "code",
   "execution_count": null,
   "id": "e022b5ae",
   "metadata": {},
   "outputs": [],
   "source": []
  },
  {
   "cell_type": "code",
   "execution_count": null,
   "id": "d2925e2b",
   "metadata": {},
   "outputs": [],
   "source": []
  },
  {
   "cell_type": "code",
   "execution_count": null,
   "id": "54cb1f15",
   "metadata": {},
   "outputs": [],
   "source": []
  },
  {
   "cell_type": "code",
   "execution_count": null,
   "id": "35d24ccc",
   "metadata": {},
   "outputs": [],
   "source": []
  },
  {
   "cell_type": "code",
   "execution_count": null,
   "id": "475d37f6",
   "metadata": {},
   "outputs": [],
   "source": []
  },
  {
   "cell_type": "code",
   "execution_count": null,
   "id": "bdda38e2",
   "metadata": {},
   "outputs": [],
   "source": []
  },
  {
   "cell_type": "code",
   "execution_count": null,
   "id": "46457ce3",
   "metadata": {},
   "outputs": [],
   "source": []
  },
  {
   "cell_type": "code",
   "execution_count": null,
   "id": "e806792c",
   "metadata": {},
   "outputs": [],
   "source": []
  },
  {
   "cell_type": "code",
   "execution_count": null,
   "id": "4af9ed78",
   "metadata": {},
   "outputs": [],
   "source": []
  },
  {
   "cell_type": "code",
   "execution_count": null,
   "id": "c6a03cb6",
   "metadata": {},
   "outputs": [],
   "source": []
  },
  {
   "cell_type": "code",
   "execution_count": null,
   "id": "ca371445",
   "metadata": {},
   "outputs": [],
   "source": [
    "\n",
    "\n"
   ]
  },
  {
   "cell_type": "code",
   "execution_count": 48,
   "id": "def2d446",
   "metadata": {},
   "outputs": [],
   "source": []
  },
  {
   "cell_type": "code",
   "execution_count": null,
   "id": "5a3806bb",
   "metadata": {},
   "outputs": [],
   "source": []
  },
  {
   "cell_type": "code",
   "execution_count": null,
   "id": "4d9e36eb",
   "metadata": {},
   "outputs": [],
   "source": []
  },
  {
   "cell_type": "code",
   "execution_count": 49,
   "id": "eb42a8ea",
   "metadata": {},
   "outputs": [],
   "source": []
  },
  {
   "cell_type": "code",
   "execution_count": 50,
   "id": "ff67f8b4",
   "metadata": {},
   "outputs": [],
   "source": []
  },
  {
   "cell_type": "code",
   "execution_count": null,
   "id": "0c70c313",
   "metadata": {},
   "outputs": [],
   "source": []
  },
  {
   "cell_type": "code",
   "execution_count": null,
   "id": "345b1199",
   "metadata": {},
   "outputs": [],
   "source": []
  },
  {
   "cell_type": "code",
   "execution_count": 40,
   "id": "c91f84ab",
   "metadata": {},
   "outputs": [],
   "source": []
  },
  {
   "cell_type": "code",
   "execution_count": null,
   "id": "05ee86a1",
   "metadata": {},
   "outputs": [],
   "source": []
  },
  {
   "cell_type": "code",
   "execution_count": null,
   "id": "8a160122",
   "metadata": {},
   "outputs": [],
   "source": []
  },
  {
   "cell_type": "code",
   "execution_count": null,
   "id": "14e0de4d",
   "metadata": {},
   "outputs": [],
   "source": []
  },
  {
   "cell_type": "code",
   "execution_count": null,
   "id": "556ed110",
   "metadata": {},
   "outputs": [],
   "source": []
  },
  {
   "cell_type": "code",
   "execution_count": null,
   "id": "0d586067",
   "metadata": {},
   "outputs": [],
   "source": []
  },
  {
   "cell_type": "code",
   "execution_count": null,
   "id": "a4ec27ef",
   "metadata": {},
   "outputs": [],
   "source": []
  },
  {
   "cell_type": "code",
   "execution_count": null,
   "id": "a4e5a92f",
   "metadata": {},
   "outputs": [],
   "source": []
  },
  {
   "cell_type": "code",
   "execution_count": null,
   "id": "341c47b0",
   "metadata": {},
   "outputs": [],
   "source": []
  },
  {
   "cell_type": "code",
   "execution_count": null,
   "id": "ab503ebd",
   "metadata": {},
   "outputs": [],
   "source": []
  },
  {
   "cell_type": "code",
   "execution_count": null,
   "id": "3015bc5a",
   "metadata": {},
   "outputs": [],
   "source": []
  },
  {
   "cell_type": "code",
   "execution_count": null,
   "id": "48cdbd29",
   "metadata": {},
   "outputs": [],
   "source": []
  }
 ],
 "metadata": {
  "kernelspec": {
   "display_name": "conda_python3",
   "language": "python",
   "name": "conda_python3"
  },
  "language_info": {
   "codemirror_mode": {
    "name": "ipython",
    "version": 3
   },
   "file_extension": ".py",
   "mimetype": "text/x-python",
   "name": "python",
   "nbconvert_exporter": "python",
   "pygments_lexer": "ipython3",
   "version": "3.6.13"
  }
 },
 "nbformat": 4,
 "nbformat_minor": 5
}
